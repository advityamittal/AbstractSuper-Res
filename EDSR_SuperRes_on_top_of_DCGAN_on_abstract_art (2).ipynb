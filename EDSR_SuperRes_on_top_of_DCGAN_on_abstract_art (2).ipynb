{
  "cells": [
    {
      "cell_type": "markdown",
      "metadata": {
        "id": "QLLTvfIN09FQ"
      },
      "source": [
        "# DCGAN to generate abstract art\n",
        "\n",
        "**Author:** [Advitya Mittal] <br>\n",
        "**Date created:** 2023/07/30<br>\n",
        "**Description:** Implementing 4x and 16x super resolution EDSR on top of DCGAN trained using `fit()` by overriding `train_step` on images of Abstract art.\n"
      ]
    },
    {
      "cell_type": "markdown",
      "metadata": {
        "id": "5x9f5-iv09FT"
      },
      "source": [
        "## Setup"
      ]
    },
    {
      "cell_type": "code",
      "execution_count": null,
      "metadata": {
        "id": "k3UdBP9J09FU"
      },
      "outputs": [],
      "source": [
        "import tensorflow as tf\n",
        "from tensorflow import keras\n",
        "from tensorflow.keras import layers\n",
        "import matplotlib.pyplot as plt\n",
        "import os\n",
        "import gdown\n",
        "from zipfile import ZipFile\n",
        "from PIL import Image\n",
        "\n",
        "import numpy as np\n",
        "from tensorflow.keras.layers import Input, Conv2D, Add, BatchNormalization, PReLU, LeakyReLU, UpSampling2D, Concatenate\n",
        "from tensorflow.keras.models import Model\n",
        "from tensorflow.keras.optimizers import Adam\n",
        "from tensorflow.keras.losses import MeanSquaredError\n",
        "from tensorflow.keras.callbacks import ModelCheckpoint\n",
        "from tensorflow.keras.initializers import Initializer"
      ]
    },
    {
      "cell_type": "markdown",
      "metadata": {
        "id": "lJn_mqfc09FV"
      },
      "source": [
        "## Prepare Abstract Art data\n",
        "\n",
        "We'll use face images from an Abstract art dataset, resized to 64x64 for efficient computation."
      ]
    },
    {
      "cell_type": "code",
      "execution_count": null,
      "metadata": {
        "id": "A3NRNoeW09FV"
      },
      "outputs": [],
      "source": [
        "if os.path.exists(\"art\"):\n",
        "    # Remove the \"art\" directory if it already exists\n",
        "    import shutil\n",
        "    shutil.rmtree(\"art\")\n",
        "\n",
        "os.makedirs(\"art\")\n",
        "\n",
        "url = \"https://drive.google.com/uc?id=1zKQZ8lFYKZxpDUV1I4dq_eQR-f5L2yLB\"\n",
        "output = \"art/data.zip\"\n",
        "gdown.download(url, output, quiet=True)\n",
        "\n",
        "with ZipFile(\"art/data.zip\", \"r\") as zipobj:\n",
        "    zipobj.extractall(\"art\")"
      ]
    },
    {
      "cell_type": "markdown",
      "metadata": {
        "id": "LmmoaxAh09FW"
      },
      "source": [
        "Create a dataset from our folder, and rescale the images to the [0-1] range:"
      ]
    },
    {
      "cell_type": "code",
      "execution_count": null,
      "metadata": {
        "colab": {
          "base_uri": "https://localhost:8080/"
        },
        "id": "cQ0HlE9C09FW",
        "outputId": "873d9a87-43d3-4b7a-9c6d-b62c559c810a"
      },
      "outputs": [
        {
          "output_type": "stream",
          "name": "stdout",
          "text": [
            "Found 2872 files belonging to 1 classes.\n"
          ]
        }
      ],
      "source": [
        "dataset = keras.utils.image_dataset_from_directory(\n",
        "    \"art\", label_mode=None, image_size=(64, 64), batch_size=32  # changing from 64,64\n",
        ")\n",
        "dataset = dataset.map(lambda x: x / 255.0)\n"
      ]
    },
    {
      "cell_type": "markdown",
      "metadata": {
        "id": "XC8QgXsv09FX"
      },
      "source": [
        "Let's display a sample image:"
      ]
    },
    {
      "cell_type": "code",
      "execution_count": null,
      "metadata": {
        "colab": {
          "base_uri": "https://localhost:8080/",
          "height": 406
        },
        "id": "11rM35ey09FX",
        "outputId": "265089b7-330d-4fa3-b14f-003a014e8f32"
      },
      "outputs": [
        {
          "output_type": "display_data",
          "data": {
            "text/plain": [
              "<Figure size 640x480 with 1 Axes>"
            ],
            "image/png": "[encoded data removed]"
          },
          "metadata": {}
        }
      ],
      "source": [
        "\n",
        "for x in dataset:\n",
        "    plt.axis(\"off\")\n",
        "    plt.imshow((x.numpy() * 255).astype(\"int32\")[0])\n",
        "    break\n"
      ]
    },
    {
      "cell_type": "markdown",
      "metadata": {
        "id": "T9VuUx-G09FY"
      },
      "source": [
        "## Create the discriminator\n",
        "\n",
        "It maps a 64x64 image to a binary classification score."
      ]
    },
    {
      "cell_type": "code",
      "execution_count": null,
      "metadata": {
        "colab": {
          "base_uri": "https://localhost:8080/"
        },
        "id": "EJmwXj2509FY",
        "outputId": "e23ba4f3-db2d-4fa4-de35-5a2178007eb0"
      },
      "outputs": [
        {
          "output_type": "stream",
          "name": "stdout",
          "text": [
            "Model: \"discriminator\"\n",
            "_________________________________________________________________\n",
            " Layer (type)                Output Shape              Param #   \n",
            "=================================================================\n",
            " conv2d (Conv2D)             (None, 32, 32, 64)        3136      \n",
            "                                                                 \n",
            " leaky_re_lu (LeakyReLU)     (None, 32, 32, 64)        0         \n",
            "                                                                 \n",
            " conv2d_1 (Conv2D)           (None, 16, 16, 128)       131200    \n",
            "                                                                 \n",
            " leaky_re_lu_1 (LeakyReLU)   (None, 16, 16, 128)       0         \n",
            "                                                                 \n",
            " conv2d_2 (Conv2D)           (None, 8, 8, 128)         262272    \n",
            "                                                                 \n",
            " leaky_re_lu_2 (LeakyReLU)   (None, 8, 8, 128)         0         \n",
            "                                                                 \n",
            " flatten (Flatten)           (None, 8192)              0         \n",
            "                                                                 \n",
            " dropout (Dropout)           (None, 8192)              0         \n",
            "                                                                 \n",
            " dense (Dense)               (None, 1)                 8193      \n",
            "                                                                 \n",
            "=================================================================\n",
            "Total params: 404,801\n",
            "Trainable params: 404,801\n",
            "Non-trainable params: 0\n",
            "_________________________________________________________________\n"
          ]
        }
      ],
      "source": [
        "discriminator = keras.Sequential(\n",
        "    [\n",
        "        keras.Input(shape=(64, 64, 3)),\n",
        "        layers.Conv2D(64, kernel_size=4, strides=2, padding=\"same\"),\n",
        "        layers.LeakyReLU(alpha=0.2),\n",
        "        layers.Conv2D(128, kernel_size=4, strides=2, padding=\"same\"),\n",
        "        layers.LeakyReLU(alpha=0.2),\n",
        "        layers.Conv2D(128, kernel_size=4, strides=2, padding=\"same\"),\n",
        "        layers.LeakyReLU(alpha=0.2),\n",
        "        layers.Flatten(),\n",
        "        layers.Dropout(0.2),\n",
        "        layers.Dense(1, activation=\"sigmoid\"),\n",
        "    ],\n",
        "    name=\"discriminator\",\n",
        ")\n",
        "discriminator.summary()\n",
        "# discriminator = keras.Sequential(\n",
        "#     [\n",
        "#         keras.Input(shape=(128, 128, 3)),\n",
        "#         layers.Conv2D(64, kernel_size=4, strides=2, padding=\"same\"),\n",
        "#         layers.LeakyReLU(alpha=0.2),\n",
        "#         layers.Conv2D(128, kernel_size=4, strides=2, padding=\"same\"),\n",
        "#         layers.LeakyReLU(alpha=0.2),\n",
        "#         layers.Conv2D(128, kernel_size=4, strides=2, padding=\"same\"),\n",
        "#         layers.LeakyReLU(alpha=0.2),\n",
        "#         layers.Flatten(),\n",
        "#         layers.Dropout(0.2),\n",
        "#         layers.Dense(1, activation=\"sigmoid\"),\n",
        "#     ],\n",
        "#     name=\"discriminator\",\n",
        "# )\n",
        "# discriminator.summary()"
      ]
    },
    {
      "cell_type": "markdown",
      "metadata": {
        "id": "r2OOHFAA09FY"
      },
      "source": [
        "## Create the generator\n",
        "\n",
        "It mirrors the discriminator, replacing `Conv2D` layers with `Conv2DTranspose` layers."
      ]
    },
    {
      "cell_type": "code",
      "execution_count": null,
      "metadata": {
        "colab": {
          "base_uri": "https://localhost:8080/"
        },
        "id": "N3JbS9Og09FY",
        "outputId": "7d0b16c6-b176-4460-bb86-12399d3f78c2"
      },
      "outputs": [
        {
          "output_type": "stream",
          "name": "stdout",
          "text": [
            "Model: \"generator\"\n",
            "_________________________________________________________________\n",
            " Layer (type)                Output Shape              Param #   \n",
            "=================================================================\n",
            " dense_1 (Dense)             (None, 8192)              1056768   \n",
            "                                                                 \n",
            " reshape (Reshape)           (None, 8, 8, 128)         0         \n",
            "                                                                 \n",
            " conv2d_transpose (Conv2DTra  (None, 16, 16, 128)      262272    \n",
            " nspose)                                                         \n",
            "                                                                 \n",
            " leaky_re_lu_3 (LeakyReLU)   (None, 16, 16, 128)       0         \n",
            "                                                                 \n",
            " conv2d_transpose_1 (Conv2DT  (None, 32, 32, 256)      524544    \n",
            " ranspose)                                                       \n",
            "                                                                 \n",
            " leaky_re_lu_4 (LeakyReLU)   (None, 32, 32, 256)       0         \n",
            "                                                                 \n",
            " conv2d_transpose_2 (Conv2DT  (None, 64, 64, 512)      2097664   \n",
            " ranspose)                                                       \n",
            "                                                                 \n",
            " leaky_re_lu_5 (LeakyReLU)   (None, 64, 64, 512)       0         \n",
            "                                                                 \n",
            " conv2d_3 (Conv2D)           (None, 64, 64, 3)         38403     \n",
            "                                                                 \n",
            "=================================================================\n",
            "Total params: 3,979,651\n",
            "Trainable params: 3,979,651\n",
            "Non-trainable params: 0\n",
            "_________________________________________________________________\n"
          ]
        }
      ],
      "source": [
        "latent_dim = 128\n",
        "generator = keras.Sequential(\n",
        "    [\n",
        "        keras.Input(shape=(latent_dim,)),\n",
        "        layers.Dense(8 * 8 * 128),\n",
        "        layers.Reshape((8, 8, 128)),\n",
        "        layers.Conv2DTranspose(128, kernel_size=4, strides=2, padding=\"same\"),\n",
        "        layers.LeakyReLU(alpha=0.2),\n",
        "        layers.Conv2DTranspose(256, kernel_size=4, strides=2, padding=\"same\"),\n",
        "        layers.LeakyReLU(alpha=0.2),\n",
        "        layers.Conv2DTranspose(512, kernel_size=4, strides=2, padding=\"same\"),\n",
        "        layers.LeakyReLU(alpha=0.2),\n",
        "        layers.Conv2D(3, kernel_size=5, padding=\"same\", activation=\"sigmoid\"),\n",
        "    ],\n",
        "    name=\"generator\",\n",
        ")\n",
        "generator.summary()\n",
        "# latent_dim = 128\n",
        "\n",
        "# generator = keras.Sequential(\n",
        "#     [\n",
        "#         keras.Input(shape=(latent_dim,)),\n",
        "#         layers.Dense(8 * 8 * 128),\n",
        "#         layers.Reshape((8, 8, 128)),\n",
        "#         layers.Conv2DTranspose(128, kernel_size=4, strides=2, padding=\"same\"),\n",
        "#         layers.LeakyReLU(alpha=0.2),\n",
        "#         layers.Conv2DTranspose(256, kernel_size=4, strides=2, padding=\"same\"),\n",
        "#         layers.LeakyReLU(alpha=0.2),\n",
        "#         layers.Conv2DTranspose(512, kernel_size=4, strides=2, padding=\"same\"),\n",
        "#         layers.LeakyReLU(alpha=0.2),\n",
        "#         layers.Conv2D(3, kernel_size=5, padding=\"same\", activation=\"sigmoid\"),\n",
        "#     ],\n",
        "#     name=\"generator\",\n",
        "# )\n",
        "# generator.summary()"
      ]
    },
    {
      "cell_type": "markdown",
      "metadata": {
        "id": "028bRoqI09FY"
      },
      "source": [
        "## Override `train_step`"
      ]
    },
    {
      "cell_type": "code",
      "execution_count": null,
      "metadata": {
        "id": "xVG6-hW609FY"
      },
      "outputs": [],
      "source": [
        "\n",
        "class GAN(keras.Model):\n",
        "    def __init__(self, discriminator, generator, latent_dim):\n",
        "        super().__init__()\n",
        "        self.discriminator = discriminator\n",
        "        self.generator = generator\n",
        "        self.latent_dim = latent_dim\n",
        "\n",
        "    def compile(self, d_optimizer, g_optimizer, loss_fn):\n",
        "        super().compile()\n",
        "        self.d_optimizer = d_optimizer\n",
        "        self.g_optimizer = g_optimizer\n",
        "        self.loss_fn = loss_fn\n",
        "        self.d_loss_metric = keras.metrics.Mean(name=\"d_loss\")\n",
        "        self.g_loss_metric = keras.metrics.Mean(name=\"g_loss\")\n",
        "\n",
        "    @property\n",
        "    def metrics(self):\n",
        "        return [self.d_loss_metric, self.g_loss_metric]\n",
        "\n",
        "    def train_step(self, real_images):\n",
        "        # Sample random points in the latent space\n",
        "        batch_size = tf.shape(real_images)[0]\n",
        "        random_latent_vectors = tf.random.normal(shape=(batch_size, self.latent_dim))\n",
        "\n",
        "        # Decode them to fake images\n",
        "        generated_images = self.generator(random_latent_vectors)\n",
        "\n",
        "        # # Combine them with real images\n",
        "        # # Upscale the generated images to match the size of real images\n",
        "        # generated_images = tf.image.resize(generated_images, (128, 128))\n",
        "\n",
        "        # Combine them with real images\n",
        "        combined_images = tf.concat([generated_images, real_images], axis=0)\n",
        "\n",
        "        # Assemble labels discriminating real from fake images\n",
        "        labels = tf.concat(\n",
        "            [tf.ones((batch_size, 1)), tf.zeros((batch_size, 1))], axis=0\n",
        "        )\n",
        "        # Add random noise to the labels - important trick!\n",
        "        labels += 0.05 * tf.random.uniform(tf.shape(labels))\n",
        "\n",
        "        # Train the discriminator\n",
        "        with tf.GradientTape() as tape:\n",
        "            predictions = self.discriminator(combined_images)\n",
        "            d_loss = self.loss_fn(labels, predictions)\n",
        "        grads = tape.gradient(d_loss, self.discriminator.trainable_weights)\n",
        "        self.d_optimizer.apply_gradients(\n",
        "            zip(grads, self.discriminator.trainable_weights)\n",
        "        )\n",
        "\n",
        "        # Sample random points in the latent space\n",
        "        random_latent_vectors = tf.random.normal(shape=(batch_size, self.latent_dim))\n",
        "\n",
        "        # Assemble labels that say \"all real images\"\n",
        "        misleading_labels = tf.zeros((batch_size, 1))\n",
        "\n",
        "        # Train the generator (note that we should *not* update the weights\n",
        "        # of the discriminator)!\n",
        "        with tf.GradientTape() as tape:\n",
        "            predictions = self.discriminator(self.generator(random_latent_vectors))\n",
        "            g_loss = self.loss_fn(misleading_labels, predictions)\n",
        "        grads = tape.gradient(g_loss, self.generator.trainable_weights)\n",
        "        self.g_optimizer.apply_gradients(zip(grads, self.generator.trainable_weights))\n",
        "\n",
        "        # Update metrics\n",
        "        self.d_loss_metric.update_state(d_loss)\n",
        "        self.g_loss_metric.update_state(g_loss)\n",
        "        return {\n",
        "            \"d_loss\": self.d_loss_metric.result(),\n",
        "            \"g_loss\": self.g_loss_metric.result(),\n",
        "        }\n"
      ]
    },
    {
      "cell_type": "markdown",
      "metadata": {
        "id": "JDDaYCAJ09FZ"
      },
      "source": [
        "## Create a callback that periodically saves generated images"
      ]
    },
    {
      "cell_type": "code",
      "execution_count": null,
      "metadata": {
        "id": "C-uNOwsX09FZ"
      },
      "outputs": [],
      "source": [
        "\n",
        "# class GANMonitor(keras.callbacks.Callback):\n",
        "#     def __init__(self, num_img=3, latent_dim=128):\n",
        "#         self.num_img = num_img\n",
        "#         self.latent_dim = latent_dim\n",
        "#         self.save_dir = \"/content/sample_data/saved\"\n",
        "\n",
        "#     def on_epoch_end(self, epoch, logs=None):\n",
        "#         random_latent_vectors = tf.random.normal(shape=(self.num_img, self.latent_dim))\n",
        "#         generated_images = self.model.generator(random_latent_vectors)\n",
        "#         generated_images *= 255\n",
        "#         generated_images.numpy()\n",
        "#         for i in range(self.num_img):\n",
        "#             img = keras.utils.array_to_img(generated_images[i])\n",
        "#             #img.save(\"generated_img_%03d_%d.png\" % (epoch, i))\n",
        "#             img.save(os.path.join(self.save_dir, \"generated_img_%03d_%d.png\" % (epoch, i)))\n",
        "\n",
        "class GANMonitor(keras.callbacks.Callback):\n",
        "    def __init__(self, num_img=3, latent_dim=128):\n",
        "        self.num_img = num_img\n",
        "        self.latent_dim = latent_dim\n",
        "        self.save_dir = \"/content/sample_data/saved\"\n",
        "        self.save_epochs = [1, 3, 7, 9, 10, 15, 25, 40, 60, 80, 100]  # Define the epochs to save images\n",
        "\n",
        "    def on_epoch_end(self, epoch, logs=None):\n",
        "        if (epoch + 1) in self.save_epochs:  # Check if the current epoch is in the save_epochs list\n",
        "            random_latent_vectors = tf.random.normal(shape=(self.num_img, self.latent_dim))\n",
        "            generated_images = self.model.generator(random_latent_vectors)\n",
        "            generated_images *= 255\n",
        "            generated_images.numpy()\n",
        "            for i in range(self.num_img):\n",
        "                img = keras.utils.array_to_img(generated_images[i])\n",
        "                img.save(os.path.join(self.save_dir, \"generated_img_%03d_%d.png\" % (epoch + 1, i)))"
      ]
    },
    {
      "cell_type": "markdown",
      "metadata": {
        "id": "iuNISIZn09Fa"
      },
      "source": [
        "## Train the end-to-end model"
      ]
    },
    {
      "cell_type": "code",
      "execution_count": null,
      "metadata": {
        "colab": {
          "base_uri": "https://localhost:8080/"
        },
        "id": "uX3y0FJo09Fa",
        "outputId": "e3e77f13-1910-40cf-88a9-375654611787"
      },
      "outputs": [
        {
          "output_type": "stream",
          "name": "stdout",
          "text": [
            "Epoch 1/10\n",
            "90/90 [==============================] - 47s 440ms/step - d_loss: 0.6161 - g_loss: 3.4331\n",
            "Epoch 2/10\n",
            "90/90 [==============================] - 44s 457ms/step - d_loss: 0.5863 - g_loss: 2.6660\n",
            "Epoch 3/10\n",
            "90/90 [==============================] - 44s 440ms/step - d_loss: -0.1744 - g_loss: 59.5434\n",
            "Epoch 4/10\n",
            "90/90 [==============================] - 43s 435ms/step - d_loss: -285.3616 - g_loss: 53948.1016\n",
            "Epoch 5/10\n",
            "90/90 [==============================] - 43s 442ms/step - d_loss: -921.5095 - g_loss: 150163.9531\n",
            "Epoch 6/10\n",
            "90/90 [==============================] - 43s 438ms/step - d_loss: -35183.7930 - g_loss: 4007577.0000\n",
            "Epoch 7/10\n",
            "90/90 [==============================] - 44s 446ms/step - d_loss: -122769.0234 - g_loss: 19043128.0000\n",
            "Epoch 8/10\n",
            "90/90 [==============================] - 43s 440ms/step - d_loss: -802985.8750 - g_loss: 73966248.0000\n",
            "Epoch 9/10\n",
            "90/90 [==============================] - 49s 471ms/step - d_loss: -100648.9453 - g_loss: 15961599.0000\n",
            "Epoch 10/10\n",
            "90/90 [==============================] - 47s 483ms/step - d_loss: 38844.1797 - g_loss: 886068.6250\n"
          ]
        },
        {
          "output_type": "execute_result",
          "data": {
            "text/plain": [
              "<keras.callbacks.History at 0x7edcc87be4d0>"
            ]
          },
          "metadata": {},
          "execution_count": 11
        }
      ],
      "source": [
        "epochs = 10  # In practice, use ~100 epochs\n",
        "\n",
        "gan = GAN(discriminator=discriminator, generator=generator, latent_dim=latent_dim)\n",
        "gan.compile(\n",
        "    d_optimizer=keras.optimizers.Adam(learning_rate=0.0008),  # changed both from 0.0001\n",
        "    g_optimizer=keras.optimizers.Adam(learning_rate=0.0008),\n",
        "    loss_fn=keras.losses.BinaryCrossentropy(),\n",
        ")\n",
        "\n",
        "gan.fit(\n",
        "    dataset, epochs=epochs, callbacks=[GANMonitor(num_img=10, latent_dim=latent_dim)]\n",
        ")"
      ]
    },
    {
      "cell_type": "code",
      "source": [
        "# def srgan_generator(scale_factor=8, num_filters=64, num_res_blocks=16):\n",
        "#     def res_block(inputs, num_filters):\n",
        "#         x = Conv2D(num_filters, 3, padding='same')(inputs)\n",
        "#         x = BatchNormalization()(x)\n",
        "#         x = PReLU(alpha_initializer='zeros')(x)\n",
        "#         x = Conv2D(num_filters, 3, padding='same')(x)\n",
        "#         x = BatchNormalization()(x)\n",
        "#         x = Add()([x, inputs])\n",
        "#         return x\n",
        "\n",
        "#     inputs = Input(shape=(None, None, 3))\n",
        "#     x = Conv2D(num_filters, 9, padding='same')(inputs)\n",
        "#     x = PReLU(alpha_initializer='zeros')(x)\n",
        "\n",
        "#     for _ in range(num_res_blocks):\n",
        "#         x = res_block(x, num_filters)\n",
        "\n",
        "#     x = Conv2D(num_filters, 3, padding='same')(x)\n",
        "#     x = BatchNormalization()(x)\n",
        "#     x = Add()([x, inputs])\n",
        "\n",
        "#     # Upsampling\n",
        "#     for _ in range(int(np.log2(scale_factor))):\n",
        "#         x = UpSampling2D(interpolation='bilinear')(x)\n",
        "#         x = Conv2D(num_filters, 3, padding='same')(x)\n",
        "#         x = PReLU(alpha_initializer='zeros')(x)\n",
        "\n",
        "#     x = Conv2D(3, 9, padding='same', activation='sigmoid')(x)\n",
        "\n",
        "#     model = Model(inputs, x)\n",
        "#     return model\n",
        "\n",
        "\n",
        "def edsr(scale_factor=4, num_filters=64, num_res_blocks=16):\n",
        "    def res_block(inputs, num_filters):\n",
        "        x = Conv2D(num_filters, 3, padding='same', activation='relu')(inputs)\n",
        "        x = Conv2D(num_filters, 3, padding='same')(x)\n",
        "        x = Add()([x, inputs])\n",
        "        return x\n",
        "\n",
        "    inputs = Input(shape=(None, None, 3))\n",
        "    x = Conv2D(num_filters, 3, padding='same', activation='relu')(inputs)\n",
        "\n",
        "    for _ in range(num_res_blocks):\n",
        "        x = res_block(x, num_filters)\n",
        "\n",
        "    x = Conv2D(3 * scale_factor ** 2, 3, padding='same')(x)\n",
        "    x = tf.nn.depth_to_space(x, scale_factor)\n",
        "\n",
        "    model = Model(inputs, x)\n",
        "    return model\n",
        "\n",
        "# def edsr(scale_factor=16, num_filters=64, num_res_blocks=32):\n",
        "#     def res_block(inputs, num_filters):\n",
        "#         x = Conv2D(num_filters, 3, padding='same', activation='relu')(inputs)\n",
        "#         x = Conv2D(num_filters, 3, padding='same')(x)\n",
        "#         x = Add()([x, inputs])\n",
        "#         return x\n",
        "\n",
        "#     inputs = Input(shape=(None, None, 3))\n",
        "#     x = Conv2D(num_filters, 3, padding='same', activation='relu')(inputs)\n",
        "\n",
        "#     for _ in range(num_res_blocks):\n",
        "#         x = res_block(x, num_filters)\n",
        "\n",
        "#     x = Conv2D(3 * scale_factor ** 2, 3, padding='same')(x)\n",
        "#     x = tf.nn.depth_to_space(x, scale_factor)\n",
        "\n",
        "#     model = Model(inputs, x)\n",
        "#     return model\n",
        "\n",
        "\n",
        "# Data preparation\n",
        "def load_images(path, target_size=(64, 64)):\n",
        "    image_files = [file for file in os.listdir(path) if file.endswith(('.png', '.jpg', '.jpeg'))]\n",
        "    images = []\n",
        "    for image_file in image_files:\n",
        "        image_path = os.path.join(path, image_file)\n",
        "        try:\n",
        "            image = Image.open(image_path)\n",
        "            image = image.resize(target_size)  # Resize to target_size for low-res images\n",
        "            image = np.array(image)\n",
        "            images.append(image)\n",
        "        except Exception as e:\n",
        "            print(f\"Error loading image {image_path}: {e}\")\n",
        "    return np.array(images)\n",
        "\n",
        "def normalize_images(images):\n",
        "    return images.astype('float32') / 255.0"
      ],
      "metadata": {
        "id": "br2vma46du1N"
      },
      "execution_count": null,
      "outputs": []
    },
    {
      "cell_type": "code",
      "source": [
        "# Load training data\n",
        "train_lr_path = '/content/sample_data/train_lr'\n",
        "train_hr_path = '/content/sample_data/train_hr'\n",
        "train_lr_images = load_images(train_lr_path, target_size=(64, 64))\n",
        "train_hr_images = load_images(train_hr_path, target_size=(256, 256)) # 256,256\n",
        "print(\"Shape of train_lr_images:\", train_lr_images.shape)\n",
        "print(\"Shape of train_hr_images:\", train_hr_images.shape)\n",
        "# Normalize images\n",
        "train_lr_images = normalize_images(train_lr_images)\n",
        "train_hr_images = normalize_images(train_hr_images)\n",
        "\n",
        "# Create and compile the model\n",
        "model = edsr()\n",
        "model.compile(optimizer=Adam(learning_rate=0.001), loss='mse')\n",
        "# Train the model\n",
        "model.fit(train_lr_images, train_hr_images, epochs=20, batch_size=16)\n",
        "\n",
        "# # Create and compile the model\n",
        "# model = edsr(scale_factor=16)\n",
        "# model.compile(optimizer=Adam(learning_rate=0.0005), loss='mse')\n",
        "# # Train the model\n",
        "# model.fit(train_lr_images, train_hr_images, epochs=300, batch_size=16)\n",
        "\n",
        "# Load the saved images\n",
        "saved_images_path = '/content/sample_data/saved'\n",
        "saved_images = load_images(saved_images_path)\n",
        "saved_images = normalize_images(saved_images)\n",
        "\n",
        "# Perform super-resolution\n",
        "super_res_images = model.predict(saved_images)\n",
        "\n",
        "# Save the super-resolved images\n",
        "saved_super_res_path = '/content/sample_data/savedSuperRes'\n",
        "os.makedirs(saved_super_res_path, exist_ok=True)\n",
        "for i, super_res_image in enumerate(super_res_images):\n",
        "    filename = f'super_res_{i}.png'\n",
        "    save_path = os.path.join(saved_super_res_path, filename)\n",
        "    tf.keras.preprocessing.image.save_img(save_path, super_res_image)"
      ],
      "metadata": {
        "id": "V8sblWfgeEdA"
      },
      "execution_count": null,
      "outputs": []
    },
    {
      "cell_type": "markdown",
      "metadata": {
        "id": "PNa_9SYE09Fb"
      },
      "source": [
        "Some of the last generated images around epoch 30\n",
        "(results keep improving after that):\n",
        "\n",
        "![results](https://i.imgur.com/ove13lO.png)\n",
        "\n",
        "<!-- https://i.imgur.com/h5MtQZ7l.png -->"
      ]
    }
  ],
  "metadata": {
    "accelerator": "GPU",
    "colab": {
      "provenance": []
    },
    "kernelspec": {
      "display_name": "Python 3",
      "language": "python",
      "name": "python3"
    },
    "language_info": {
      "codemirror_mode": {
        "name": "ipython",
        "version": 3
      },
      "file_extension": ".py",
      "mimetype": "text/x-python",
      "name": "python",
      "nbconvert_exporter": "python",
      "pygments_lexer": "ipython3",
      "version": "3.7.0"
    }
  },
  "nbformat": 4,
  "nbformat_minor": 0
}